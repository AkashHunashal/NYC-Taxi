{
 "cells": [
  {
   "cell_type": "code",
   "execution_count": 1,
   "id": "fba78621-f245-4e77-a6c5-f1c02535bbff",
   "metadata": {},
   "outputs": [],
   "source": [
    "import pandas as pd\n",
    "import seaborn as sns\n",
    "import matplotlib.pyplot as plt\n",
    "%matplotlib inline\n",
    "import warnings\n",
    "warnings.filterwarnings('ignore')"
   ]
  },
  {
   "cell_type": "code",
   "execution_count": 2,
   "id": "bea8c8da-6c87-48cb-ab4c-385265e6f89a",
   "metadata": {},
   "outputs": [
    {
     "data": {
      "text/html": [
       "<div>\n",
       "<style scoped>\n",
       "    .dataframe tbody tr th:only-of-type {\n",
       "        vertical-align: middle;\n",
       "    }\n",
       "\n",
       "    .dataframe tbody tr th {\n",
       "        vertical-align: top;\n",
       "    }\n",
       "\n",
       "    .dataframe thead th {\n",
       "        text-align: right;\n",
       "    }\n",
       "</style>\n",
       "<table border=\"1\" class=\"dataframe\">\n",
       "  <thead>\n",
       "    <tr style=\"text-align: right;\">\n",
       "      <th></th>\n",
       "      <th>id</th>\n",
       "      <th>vendor_id</th>\n",
       "      <th>pickup_datetime</th>\n",
       "      <th>dropoff_datetime</th>\n",
       "      <th>passenger_count</th>\n",
       "      <th>pickup_longitude</th>\n",
       "      <th>pickup_latitude</th>\n",
       "      <th>dropoff_longitude</th>\n",
       "      <th>dropoff_latitude</th>\n",
       "      <th>store_and_fwd_flag</th>\n",
       "      <th>trip_duration</th>\n",
       "    </tr>\n",
       "  </thead>\n",
       "  <tbody>\n",
       "    <tr>\n",
       "      <th>0</th>\n",
       "      <td>id1080784</td>\n",
       "      <td>2</td>\n",
       "      <td>2016-02-29 16:40:21</td>\n",
       "      <td>2016-02-29 16:47:01</td>\n",
       "      <td>1</td>\n",
       "      <td>-73.953918</td>\n",
       "      <td>40.778873</td>\n",
       "      <td>-73.963875</td>\n",
       "      <td>40.771164</td>\n",
       "      <td>N</td>\n",
       "      <td>400</td>\n",
       "    </tr>\n",
       "    <tr>\n",
       "      <th>1</th>\n",
       "      <td>id0889885</td>\n",
       "      <td>1</td>\n",
       "      <td>2016-03-11 23:35:37</td>\n",
       "      <td>2016-03-11 23:53:57</td>\n",
       "      <td>2</td>\n",
       "      <td>-73.988312</td>\n",
       "      <td>40.731743</td>\n",
       "      <td>-73.994751</td>\n",
       "      <td>40.694931</td>\n",
       "      <td>N</td>\n",
       "      <td>1100</td>\n",
       "    </tr>\n",
       "    <tr>\n",
       "      <th>2</th>\n",
       "      <td>id0857912</td>\n",
       "      <td>2</td>\n",
       "      <td>2016-02-21 17:59:33</td>\n",
       "      <td>2016-02-21 18:26:48</td>\n",
       "      <td>2</td>\n",
       "      <td>-73.997314</td>\n",
       "      <td>40.721458</td>\n",
       "      <td>-73.948029</td>\n",
       "      <td>40.774918</td>\n",
       "      <td>N</td>\n",
       "      <td>1635</td>\n",
       "    </tr>\n",
       "    <tr>\n",
       "      <th>3</th>\n",
       "      <td>id3744273</td>\n",
       "      <td>2</td>\n",
       "      <td>2016-01-05 09:44:31</td>\n",
       "      <td>2016-01-05 10:03:32</td>\n",
       "      <td>6</td>\n",
       "      <td>-73.961670</td>\n",
       "      <td>40.759720</td>\n",
       "      <td>-73.956779</td>\n",
       "      <td>40.780628</td>\n",
       "      <td>N</td>\n",
       "      <td>1141</td>\n",
       "    </tr>\n",
       "    <tr>\n",
       "      <th>4</th>\n",
       "      <td>id0232939</td>\n",
       "      <td>1</td>\n",
       "      <td>2016-02-17 06:42:23</td>\n",
       "      <td>2016-02-17 06:56:31</td>\n",
       "      <td>1</td>\n",
       "      <td>-74.017120</td>\n",
       "      <td>40.708469</td>\n",
       "      <td>-73.988182</td>\n",
       "      <td>40.740631</td>\n",
       "      <td>N</td>\n",
       "      <td>848</td>\n",
       "    </tr>\n",
       "  </tbody>\n",
       "</table>\n",
       "</div>"
      ],
      "text/plain": [
       "          id  vendor_id      pickup_datetime     dropoff_datetime  \\\n",
       "0  id1080784          2  2016-02-29 16:40:21  2016-02-29 16:47:01   \n",
       "1  id0889885          1  2016-03-11 23:35:37  2016-03-11 23:53:57   \n",
       "2  id0857912          2  2016-02-21 17:59:33  2016-02-21 18:26:48   \n",
       "3  id3744273          2  2016-01-05 09:44:31  2016-01-05 10:03:32   \n",
       "4  id0232939          1  2016-02-17 06:42:23  2016-02-17 06:56:31   \n",
       "\n",
       "   passenger_count  pickup_longitude  pickup_latitude  dropoff_longitude  \\\n",
       "0                1        -73.953918        40.778873         -73.963875   \n",
       "1                2        -73.988312        40.731743         -73.994751   \n",
       "2                2        -73.997314        40.721458         -73.948029   \n",
       "3                6        -73.961670        40.759720         -73.956779   \n",
       "4                1        -74.017120        40.708469         -73.988182   \n",
       "\n",
       "   dropoff_latitude store_and_fwd_flag  trip_duration  \n",
       "0         40.771164                  N            400  \n",
       "1         40.694931                  N           1100  \n",
       "2         40.774918                  N           1635  \n",
       "3         40.780628                  N           1141  \n",
       "4         40.740631                  N            848  "
      ]
     },
     "execution_count": 2,
     "metadata": {},
     "output_type": "execute_result"
    }
   ],
   "source": [
    "df=pd.read_csv('nyc_taxi_trip_duration.csv')\n",
    "df.head()"
   ]
  },
  {
   "cell_type": "code",
   "execution_count": 3,
   "id": "64b8f3f7-f1eb-4905-8541-fec286fa0f54",
   "metadata": {},
   "outputs": [
    {
     "data": {
      "text/html": [
       "<div>\n",
       "<style scoped>\n",
       "    .dataframe tbody tr th:only-of-type {\n",
       "        vertical-align: middle;\n",
       "    }\n",
       "\n",
       "    .dataframe tbody tr th {\n",
       "        vertical-align: top;\n",
       "    }\n",
       "\n",
       "    .dataframe thead th {\n",
       "        text-align: right;\n",
       "    }\n",
       "</style>\n",
       "<table border=\"1\" class=\"dataframe\">\n",
       "  <thead>\n",
       "    <tr style=\"text-align: right;\">\n",
       "      <th></th>\n",
       "      <th>vendor_id</th>\n",
       "      <th>passenger_count</th>\n",
       "      <th>pickup_longitude</th>\n",
       "      <th>pickup_latitude</th>\n",
       "      <th>dropoff_longitude</th>\n",
       "      <th>dropoff_latitude</th>\n",
       "      <th>trip_duration</th>\n",
       "    </tr>\n",
       "  </thead>\n",
       "  <tbody>\n",
       "    <tr>\n",
       "      <th>count</th>\n",
       "      <td>729322.000000</td>\n",
       "      <td>729322.000000</td>\n",
       "      <td>729322.000000</td>\n",
       "      <td>729322.000000</td>\n",
       "      <td>729322.000000</td>\n",
       "      <td>729322.000000</td>\n",
       "      <td>7.293220e+05</td>\n",
       "    </tr>\n",
       "    <tr>\n",
       "      <th>mean</th>\n",
       "      <td>1.535403</td>\n",
       "      <td>1.662055</td>\n",
       "      <td>-73.973513</td>\n",
       "      <td>40.750919</td>\n",
       "      <td>-73.973422</td>\n",
       "      <td>40.751775</td>\n",
       "      <td>9.522291e+02</td>\n",
       "    </tr>\n",
       "    <tr>\n",
       "      <th>std</th>\n",
       "      <td>0.498745</td>\n",
       "      <td>1.312446</td>\n",
       "      <td>0.069754</td>\n",
       "      <td>0.033594</td>\n",
       "      <td>0.069588</td>\n",
       "      <td>0.036037</td>\n",
       "      <td>3.864626e+03</td>\n",
       "    </tr>\n",
       "    <tr>\n",
       "      <th>min</th>\n",
       "      <td>1.000000</td>\n",
       "      <td>0.000000</td>\n",
       "      <td>-121.933342</td>\n",
       "      <td>34.712234</td>\n",
       "      <td>-121.933304</td>\n",
       "      <td>32.181141</td>\n",
       "      <td>1.000000e+00</td>\n",
       "    </tr>\n",
       "    <tr>\n",
       "      <th>25%</th>\n",
       "      <td>1.000000</td>\n",
       "      <td>1.000000</td>\n",
       "      <td>-73.991859</td>\n",
       "      <td>40.737335</td>\n",
       "      <td>-73.991318</td>\n",
       "      <td>40.735931</td>\n",
       "      <td>3.970000e+02</td>\n",
       "    </tr>\n",
       "    <tr>\n",
       "      <th>50%</th>\n",
       "      <td>2.000000</td>\n",
       "      <td>1.000000</td>\n",
       "      <td>-73.981758</td>\n",
       "      <td>40.754070</td>\n",
       "      <td>-73.979759</td>\n",
       "      <td>40.754509</td>\n",
       "      <td>6.630000e+02</td>\n",
       "    </tr>\n",
       "    <tr>\n",
       "      <th>75%</th>\n",
       "      <td>2.000000</td>\n",
       "      <td>2.000000</td>\n",
       "      <td>-73.967361</td>\n",
       "      <td>40.768314</td>\n",
       "      <td>-73.963036</td>\n",
       "      <td>40.769741</td>\n",
       "      <td>1.075000e+03</td>\n",
       "    </tr>\n",
       "    <tr>\n",
       "      <th>max</th>\n",
       "      <td>2.000000</td>\n",
       "      <td>9.000000</td>\n",
       "      <td>-65.897385</td>\n",
       "      <td>51.881084</td>\n",
       "      <td>-65.897385</td>\n",
       "      <td>43.921028</td>\n",
       "      <td>1.939736e+06</td>\n",
       "    </tr>\n",
       "  </tbody>\n",
       "</table>\n",
       "</div>"
      ],
      "text/plain": [
       "           vendor_id  passenger_count  pickup_longitude  pickup_latitude  \\\n",
       "count  729322.000000    729322.000000     729322.000000    729322.000000   \n",
       "mean        1.535403         1.662055        -73.973513        40.750919   \n",
       "std         0.498745         1.312446          0.069754         0.033594   \n",
       "min         1.000000         0.000000       -121.933342        34.712234   \n",
       "25%         1.000000         1.000000        -73.991859        40.737335   \n",
       "50%         2.000000         1.000000        -73.981758        40.754070   \n",
       "75%         2.000000         2.000000        -73.967361        40.768314   \n",
       "max         2.000000         9.000000        -65.897385        51.881084   \n",
       "\n",
       "       dropoff_longitude  dropoff_latitude  trip_duration  \n",
       "count      729322.000000     729322.000000   7.293220e+05  \n",
       "mean          -73.973422         40.751775   9.522291e+02  \n",
       "std             0.069588          0.036037   3.864626e+03  \n",
       "min          -121.933304         32.181141   1.000000e+00  \n",
       "25%           -73.991318         40.735931   3.970000e+02  \n",
       "50%           -73.979759         40.754509   6.630000e+02  \n",
       "75%           -73.963036         40.769741   1.075000e+03  \n",
       "max           -65.897385         43.921028   1.939736e+06  "
      ]
     },
     "execution_count": 3,
     "metadata": {},
     "output_type": "execute_result"
    }
   ],
   "source": [
    "df.describe()"
   ]
  },
  {
   "cell_type": "code",
   "execution_count": 4,
   "id": "79815f38-02e5-4c8c-b47c-bd25ed890e85",
   "metadata": {},
   "outputs": [
    {
     "name": "stdout",
     "output_type": "stream",
     "text": [
      "<class 'pandas.core.frame.DataFrame'>\n",
      "RangeIndex: 729322 entries, 0 to 729321\n",
      "Data columns (total 11 columns):\n",
      " #   Column              Non-Null Count   Dtype  \n",
      "---  ------              --------------   -----  \n",
      " 0   id                  729322 non-null  object \n",
      " 1   vendor_id           729322 non-null  int64  \n",
      " 2   pickup_datetime     729322 non-null  object \n",
      " 3   dropoff_datetime    729322 non-null  object \n",
      " 4   passenger_count     729322 non-null  int64  \n",
      " 5   pickup_longitude    729322 non-null  float64\n",
      " 6   pickup_latitude     729322 non-null  float64\n",
      " 7   dropoff_longitude   729322 non-null  float64\n",
      " 8   dropoff_latitude    729322 non-null  float64\n",
      " 9   store_and_fwd_flag  729322 non-null  object \n",
      " 10  trip_duration       729322 non-null  int64  \n",
      "dtypes: float64(4), int64(3), object(4)\n",
      "memory usage: 61.2+ MB\n"
     ]
    }
   ],
   "source": [
    "df.info()"
   ]
  },
  {
   "cell_type": "markdown",
   "id": "56f26f53-7bf3-4287-95bf-662525f74736",
   "metadata": {},
   "source": [
    "### There are no null values"
   ]
  },
  {
   "cell_type": "code",
   "execution_count": 5,
   "id": "49de304b-e90e-4888-8f56-d40924f97e2e",
   "metadata": {},
   "outputs": [
    {
     "data": {
      "text/plain": [
       "<AxesSubplot:>"
      ]
     },
     "execution_count": 5,
     "metadata": {},
     "output_type": "execute_result"
    },
    {
     "data": {
      "image/png": "[encoded data removed]",
      "text/plain": [
       "<Figure size 1008x720 with 2 Axes>"
      ]
     },
     "metadata": {
      "needs_background": "light"
     },
     "output_type": "display_data"
    }
   ],
   "source": [
    "plt.figure(figsize=(14,10))\n",
    "sns.heatmap(df.corr(),cmap='viridis')"
   ]
  },
  {
   "cell_type": "markdown",
   "id": "842f20b4-a89d-4365-9cbb-75d29a853162",
   "metadata": {},
   "source": [
    "### Here we see dropoff and pickup longitude  are highly correlated because this is about single city and they lie on same longitude"
   ]
  },
  {
   "cell_type": "code",
   "execution_count": 6,
   "id": "6a6fd20a-9c27-4fc5-95ec-1927d08b17ce",
   "metadata": {},
   "outputs": [
    {
     "name": "stdout",
     "output_type": "stream",
     "text": [
      "<class 'pandas.core.frame.DataFrame'>\n",
      "RangeIndex: 729322 entries, 0 to 729321\n",
      "Data columns (total 11 columns):\n",
      " #   Column              Non-Null Count   Dtype         \n",
      "---  ------              --------------   -----         \n",
      " 0   id                  729322 non-null  object        \n",
      " 1   vendor_id           729322 non-null  int64         \n",
      " 2   pickup_datetime     729322 non-null  datetime64[ns]\n",
      " 3   dropoff_datetime    729322 non-null  datetime64[ns]\n",
      " 4   passenger_count     729322 non-null  int64         \n",
      " 5   pickup_longitude    729322 non-null  float64       \n",
      " 6   pickup_latitude     729322 non-null  float64       \n",
      " 7   dropoff_longitude   729322 non-null  float64       \n",
      " 8   dropoff_latitude    729322 non-null  float64       \n",
      " 9   store_and_fwd_flag  729322 non-null  object        \n",
      " 10  trip_duration       729322 non-null  int64         \n",
      "dtypes: datetime64[ns](2), float64(4), int64(3), object(2)\n",
      "memory usage: 61.2+ MB\n"
     ]
    }
   ],
   "source": [
    "df['pickup_datetime']=pd.to_datetime(df['pickup_datetime'],format='%Y-%m-%d %H:%M:%S')\n",
    "df['dropoff_datetime']=pd.to_datetime(df['dropoff_datetime'],format='%Y-%m-%d %H:%M:%S')\n",
    "df.info()"
   ]
  },
  {
   "cell_type": "markdown",
   "id": "1f075c7d-54a5-4039-83a4-4096659f9622",
   "metadata": {},
   "source": [
    "## Lets check the datetime features to analyse the when the travel was carried out"
   ]
  },
  {
   "cell_type": "code",
   "execution_count": 38,
   "id": "27880a40-8003-4f75-a2dd-402a521e1284",
   "metadata": {},
   "outputs": [
    {
     "name": "stdout",
     "output_type": "stream",
     "text": [
      "The trips are taken in 2016    729322\n",
      "Name: pickup_datetime, dtype: int64\n",
      "The trips are taken in 2016    729322\n",
      "Name: dropoff_datetime, dtype: int64\n"
     ]
    }
   ],
   "source": [
    "print(f\"The trips are taken in {df['pickup_datetime'].dt.year.value_counts()}\")\n",
    "print(f\"The trips are taken in {df['dropoff_datetime'].dt.year.value_counts()}\")"
   ]
  },
  {
   "cell_type": "markdown",
   "id": "37919f7e-0e2f-452e-a549-ff78c164f333",
   "metadata": {},
   "source": [
    "#### As we see the trips are carried down in 2016 so we dont need the year as a feature"
   ]
  },
  {
   "cell_type": "markdown",
   "id": "2db63ebf-125d-4e83-bea1-4195c660b423",
   "metadata": {},
   "source": [
    "## Months in the Year"
   ]
  },
  {
   "cell_type": "code",
   "execution_count": 126,
   "id": "77f78258-35fc-495b-b3b9-d363e7a24933",
   "metadata": {},
   "outputs": [
    {
     "name": "stdout",
     "output_type": "stream",
     "text": [
      "The trips are taken in months starting from January till June \n",
      "3    128316\n",
      "4    125634\n",
      "5    124201\n",
      "2    119364\n",
      "6    117406\n",
      "1    114401\n",
      "Name: pickup_datetime, dtype: int64\n"
     ]
    },
    {
     "data": {
      "text/plain": [
       "<AxesSubplot:>"
      ]
     },
     "execution_count": 126,
     "metadata": {},
     "output_type": "execute_result"
    },
    {
     "data": {
      "image/png": "[encoded data removed]",
      "text/plain": [
       "<Figure size 576x432 with 1 Axes>"
      ]
     },
     "metadata": {
      "needs_background": "light"
     },
     "output_type": "display_data"
    }
   ],
   "source": [
    "print(f\"The trips are taken in months starting from January till June \\n{df['pickup_datetime'].dt.month.value_counts()}\")\n",
    "plt.figure(figsize=(8,6))\n",
    "sns.barplot(x=df['pickup_datetime'].dt.strftime('%B').value_counts().index,data=df,y=df['pickup_datetime'].dt.strftime('%B').value_counts().values)"
   ]
  },
  {
   "cell_type": "code",
   "execution_count": 127,
   "id": "f7627404-1f09-4cfe-928f-b342be0d7f20",
   "metadata": {},
   "outputs": [
    {
     "data": {
      "image/png": "[encoded data removed]",
      "text/plain": [
       "<Figure size 576x432 with 1 Axes>"
      ]
     },
     "metadata": {
      "needs_background": "light"
     },
     "output_type": "display_data"
    },
    {
     "name": "stdout",
     "output_type": "stream",
     "text": [
      "The trips are taken in the months starting from January till July\n",
      "3    128284\n",
      "4    125633\n",
      "5    124236\n",
      "2    119361\n",
      "6    117380\n",
      "1    114375\n",
      "7        53\n",
      "Name: dropoff_datetime, dtype: int64\n"
     ]
    }
   ],
   "source": [
    "plt.figure(figsize=(8,6))\n",
    "sns.barplot(x=df['dropoff_datetime'].dt.strftime('%B').value_counts().index,data=df,y=df['dropoff_datetime'].dt.strftime('%B').value_counts().values)\n",
    "plt.show()\n",
    "print(f\"The trips are taken in the months starting from January till July\\n{df['dropoff_datetime'].dt.month.value_counts()}\")"
   ]
  },
  {
   "cell_type": "markdown",
   "id": "f07d045e-80a7-4303-8b6e-1a138a730609",
   "metadata": {},
   "source": [
    "#### We can see that trips have been carried in the first half of the year from January to June and this feature will help in the extraction"
   ]
  },
  {
   "cell_type": "markdown",
   "id": "a7310c63-b8ad-4843-bde9-ff916bcc3f21",
   "metadata": {},
   "source": [
    "## Day of the Week"
   ]
  },
  {
   "cell_type": "code",
   "execution_count": 128,
   "id": "83294474-3895-4a54-a845-0585cff9325c",
   "metadata": {},
   "outputs": [
    {
     "name": "stdout",
     "output_type": "stream",
     "text": [
      "The trips are taken in \n",
      "0     93972\n",
      "1    101254\n",
      "2    105074\n",
      "3    109344\n",
      "4    111744\n",
      "5    110252\n",
      "6     97682\n",
      "Name: pickup_datetime, dtype: int64\n"
     ]
    },
    {
     "data": {
      "text/plain": [
       "<AxesSubplot:>"
      ]
     },
     "execution_count": 128,
     "metadata": {},
     "output_type": "execute_result"
    },
    {
     "data": {
      "image/png": "[encoded data removed]",
      "text/plain": [
       "<Figure size 576x432 with 1 Axes>"
      ]
     },
     "metadata": {
      "needs_background": "light"
     },
     "output_type": "display_data"
    }
   ],
   "source": [
    "print(f\"The trips are taken in \\n{df['pickup_datetime'].dt.weekday.value_counts().sort_index()}\")\n",
    "plt.figure(figsize=(8,6))\n",
    "sns.barplot(x=df['pickup_datetime'].dt.strftime('%A').value_counts().index,data=df,y=df['pickup_datetime'].dt.strftime('%A').value_counts().values)"
   ]
  },
  {
   "cell_type": "code",
   "execution_count": 129,
   "id": "14a03297-f27f-4929-826f-ee4b321583e2",
   "metadata": {},
   "outputs": [
    {
     "name": "stdout",
     "output_type": "stream",
     "text": [
      "The trips are taken in \n",
      "0     93959\n",
      "1    101142\n",
      "2    104944\n",
      "3    108918\n",
      "4    111509\n",
      "5    110289\n",
      "6     98561\n",
      "Name: dropoff_datetime, dtype: int64\n"
     ]
    },
    {
     "data": {
      "text/plain": [
       "<AxesSubplot:>"
      ]
     },
     "execution_count": 129,
     "metadata": {},
     "output_type": "execute_result"
    },
    {
     "data": {
      "image/png": "[encoded data removed]",
      "text/plain": [
       "<Figure size 576x432 with 1 Axes>"
      ]
     },
     "metadata": {
      "needs_background": "light"
     },
     "output_type": "display_data"
    }
   ],
   "source": [
    "print(f\"The trips are taken in \\n{df['dropoff_datetime'].dt.weekday.value_counts().sort_index()}\")\n",
    "plt.figure(figsize=(8,6))\n",
    "sns.barplot(x=df['dropoff_datetime'].dt.strftime('%A').value_counts().index,data=df,y=df['dropoff_datetime'].dt.strftime('%A').value_counts().values)"
   ]
  },
  {
   "cell_type": "markdown",
   "id": "ebf445b1-23fe-4eba-8bd2-42336d5d1673",
   "metadata": {},
   "source": [
    "#### As we can see the rides are taken mostly on Friday and Saturday compared to other days but distribution is pretty much what we expect"
   ]
  },
  {
   "cell_type": "markdown",
   "id": "ac6aa5db-3702-4961-ad63-0159e7997e7e",
   "metadata": {},
   "source": [
    "### Days of the month"
   ]
  },
  {
   "cell_type": "code",
   "execution_count": 132,
   "id": "a04a58fc-2367-4186-8981-a6d7df0ca54a",
   "metadata": {},
   "outputs": [
    {
     "name": "stdout",
     "output_type": "stream",
     "text": [
      "The trips are taken in \n"
     ]
    },
    {
     "data": {
      "text/plain": [
       "<AxesSubplot:>"
      ]
     },
     "execution_count": 132,
     "metadata": {},
     "output_type": "execute_result"
    },
    {
     "data": {
      "image/png": "[encoded data removed]",
      "text/plain": [
       "<Figure size 576x432 with 1 Axes>"
      ]
     },
     "metadata": {
      "needs_background": "light"
     },
     "output_type": "display_data"
    }
   ],
   "source": [
    "print(f\"The trips are taken in \")\n",
    "plt.figure(figsize=(8,6))\n",
    "sns.barplot(x=df['dropoff_datetime'].dt.day.value_counts().index,data=df,y=df['dropoff_datetime'].dt.day.value_counts().values)"
   ]
  },
  {
   "cell_type": "code",
   "execution_count": 131,
   "id": "9c46cbc9-ec47-4adb-8653-c75c704b6226",
   "metadata": {},
   "outputs": [
    {
     "name": "stdout",
     "output_type": "stream",
     "text": [
      "The trips are taken in \n",
      "\n"
     ]
    },
    {
     "data": {
      "text/plain": [
       "<AxesSubplot:>"
      ]
     },
     "execution_count": 131,
     "metadata": {},
     "output_type": "execute_result"
    },
    {
     "data": {
      "image/png": "[encoded data removed]",
      "text/plain": [
       "<Figure size 576x432 with 1 Axes>"
      ]
     },
     "metadata": {
      "needs_background": "light"
     },
     "output_type": "display_data"
    }
   ],
   "source": [
    "print(f\"The trips are taken in \\n\")\n",
    "plt.figure(figsize=(8,6))\n",
    "sns.barplot(x=df['dropoff_datetime'].dt.day.value_counts().index,data=df,y=df['dropoff_datetime'].dt.day.value_counts().values)"
   ]
  },
  {
   "cell_type": "markdown",
   "id": "b84e93e1-63ba-4847-b23f-bfa0f3c9782e",
   "metadata": {},
   "source": [
    "## Lets look into passenger count"
   ]
  },
  {
   "cell_type": "code",
   "execution_count": 146,
   "id": "7afb35ec-6dc3-480d-a18c-01b4cb1ef4ac",
   "metadata": {},
   "outputs": [
    {
     "data": {
      "text/plain": [
       "1    517415\n",
       "2    105097\n",
       "5     38926\n",
       "3     29692\n",
       "6     24107\n",
       "4     14050\n",
       "0        33\n",
       "7         1\n",
       "9         1\n",
       "Name: passenger_count, dtype: int64"
      ]
     },
     "execution_count": 146,
     "metadata": {},
     "output_type": "execute_result"
    }
   ],
   "source": [
    "df['passenger_count'].value_counts()"
   ]
  },
  {
   "cell_type": "code",
   "execution_count": 157,
   "id": "6b96f2c0-f14f-4940-8e4f-e93c9668ca21",
   "metadata": {},
   "outputs": [
    {
     "data": {
      "text/plain": [
       "array([517415, 105097,  38926,  29692,  24107,  14050,     33,      1,\n",
       "            1], dtype=int64)"
      ]
     },
     "execution_count": 157,
     "metadata": {},
     "output_type": "execute_result"
    }
   ],
   "source": [
    "df['passenger_count'].value_counts().values"
   ]
  },
  {
   "cell_type": "code",
   "execution_count": 147,
   "id": "df993189-dd31-4b1c-98ee-3487dfe70887",
   "metadata": {},
   "outputs": [
    {
     "data": {
      "text/plain": [
       "<AxesSubplot:>"
      ]
     },
     "execution_count": 147,
     "metadata": {},
     "output_type": "execute_result"
    },
    {
     "data": {
      "image/png": "[encoded data removed]",
      "text/plain": [
       "<Figure size 432x288 with 1 Axes>"
      ]
     },
     "metadata": {
      "needs_background": "light"
     },
     "output_type": "display_data"
    }
   ],
   "source": [
    "sns.barplot(data=df,x=df['passenger_count'].value_counts().sort_index().index.values,y=df['passenger_count'].value_counts().sort_index().values)"
   ]
  },
  {
   "cell_type": "markdown",
   "id": "d1af7529-0faa-4418-9b80-b68e2123f540",
   "metadata": {},
   "source": [
    "### We can see majority of the passenger count is 1 and followed by 2 passengers"
   ]
  },
  {
   "cell_type": "code",
   "execution_count": 168,
   "id": "985eca4c-9025-454d-af95-d608d611e8ad",
   "metadata": {},
   "outputs": [
    {
     "data": {
      "text/plain": [
       "<matplotlib.collections.PathCollection at 0x26d0b568820>"
      ]
     },
     "execution_count": 168,
     "metadata": {},
     "output_type": "execute_result"
    },
    {
     "data": {
      "image/png": "[encoded data removed]",
      "text/plain": [
       "<Figure size 432x288 with 1 Axes>"
      ]
     },
     "metadata": {
      "needs_background": "light"
     },
     "output_type": "display_data"
    }
   ],
   "source": [
    "plt.scatter(x=df['pickup_longitude'],y=df['dropoff_longitude'])"
   ]
  },
  {
   "cell_type": "code",
   "execution_count": 169,
   "id": "59ca1028-7a79-4501-82c8-77575079cc4f",
   "metadata": {},
   "outputs": [
    {
     "data": {
      "text/plain": [
       "<matplotlib.collections.PathCollection at 0x26d0b5a7700>"
      ]
     },
     "execution_count": 169,
     "metadata": {},
     "output_type": "execute_result"
    },
    {
     "data": {
      "image/png": "[encoded data removed]",
      "text/plain": [
       "<Figure size 432x288 with 1 Axes>"
      ]
     },
     "metadata": {
      "needs_background": "light"
     },
     "output_type": "display_data"
    }
   ],
   "source": [
    "plt.scatter(x=df['pickup_latitude'],y=df['dropoff_latitude'])"
   ]
  },
  {
   "cell_type": "markdown",
   "id": "79cb3bae-835e-4230-a2b0-b651fcd3e560",
   "metadata": {},
   "source": [
    "## Lets check the flag counts"
   ]
  },
  {
   "cell_type": "code",
   "execution_count": 174,
   "id": "cd576940-afec-48f0-abff-6dae82e6e446",
   "metadata": {},
   "outputs": [
    {
     "data": {
      "text/plain": [
       "<AxesSubplot:>"
      ]
     },
     "execution_count": 174,
     "metadata": {},
     "output_type": "execute_result"
    },
    {
     "data": {
      "image/png": "[encoded data removed]",
      "text/plain": [
       "<Figure size 432x288 with 1 Axes>"
      ]
     },
     "metadata": {
      "needs_background": "light"
     },
     "output_type": "display_data"
    }
   ],
   "source": [
    "sns.barplot(data=df,x=df['store_and_fwd_flag'].value_counts().index.values,y=df['store_and_fwd_flag'].value_counts().values)"
   ]
  },
  {
   "cell_type": "markdown",
   "id": "5a95a633-503e-495b-893b-1c27e9470ea3",
   "metadata": {},
   "source": [
    "### We can see that majority of the trips had proper connections to netwrok and trip was recorded"
   ]
  },
  {
   "cell_type": "markdown",
   "id": "1c2a6e68-eab8-4abe-8f5f-c5614a273d63",
   "metadata": {},
   "source": [
    "## Lets check the trip duration"
   ]
  },
  {
   "cell_type": "code",
   "execution_count": 201,
   "id": "fd84740d-8ef7-4df7-b547-f0fdde61eab9",
   "metadata": {},
   "outputs": [
    {
     "data": {
      "text/plain": [
       "<AxesSubplot:xlabel='trip_duration', ylabel='count'>"
      ]
     },
     "execution_count": 201,
     "metadata": {},
     "output_type": "execute_result"
    },
    {
     "data": {
      "image/png": "[encoded data removed]",
      "text/plain": [
       "<Figure size 432x288 with 1 Axes>"
      ]
     },
     "metadata": {
      "needs_background": "light"
     },
     "output_type": "display_data"
    }
   ],
   "source": [
    "sns.countplot(df['trip_duration']<60)"
   ]
  },
  {
   "cell_type": "markdown",
   "id": "33ccd4a3-f58d-4daa-b607-a9622312c9cd",
   "metadata": {},
   "source": [
    "### We can see that few of the trips have ride less than a minute which could signify that trip dint start as taxi cant travel anywhere within a minute"
   ]
  },
  {
   "cell_type": "code",
   "execution_count": null,
   "id": "4117e95b-396c-40b3-9942-991a241db66a",
   "metadata": {},
   "outputs": [],
   "source": []
  },
  {
   "cell_type": "code",
   "execution_count": null,
   "id": "d5908878-43f4-4534-ab32-716f975b2366",
   "metadata": {},
   "outputs": [],
   "source": []
  },
  {
   "cell_type": "code",
   "execution_count": null,
   "id": "827c3e42-e454-4a12-a7a4-c34a4a711e34",
   "metadata": {},
   "outputs": [],
   "source": []
  },
  {
   "cell_type": "code",
   "execution_count": null,
   "id": "e667d1df-dc0a-4ccc-bb2a-47c2d7cf9c87",
   "metadata": {},
   "outputs": [],
   "source": []
  },
  {
   "cell_type": "code",
   "execution_count": null,
   "id": "930d91a6-fb97-45a2-8943-ad03af2a3ccf",
   "metadata": {},
   "outputs": [],
   "source": []
  },
  {
   "cell_type": "code",
   "execution_count": null,
   "id": "46733e03-ceee-4805-9e56-586d1e45f0be",
   "metadata": {},
   "outputs": [],
   "source": []
  },
  {
   "cell_type": "code",
   "execution_count": null,
   "id": "a415b154-a2c2-44eb-95b2-dad1661b24f8",
   "metadata": {},
   "outputs": [],
   "source": []
  },
  {
   "cell_type": "code",
   "execution_count": null,
   "id": "57d5dc6e-e993-4afd-9f86-020e30a7ffc4",
   "metadata": {},
   "outputs": [],
   "source": []
  },
  {
   "cell_type": "code",
   "execution_count": null,
   "id": "6c30eb22-7e0f-4f04-8bb7-ab842f24a88a",
   "metadata": {},
   "outputs": [],
   "source": []
  },
  {
   "cell_type": "code",
   "execution_count": null,
   "id": "e523faf3-ef9c-4ac0-aa23-1503d761218d",
   "metadata": {},
   "outputs": [],
   "source": []
  },
  {
   "cell_type": "code",
   "execution_count": null,
   "id": "058d83b9-28e4-4703-89a0-351645d11072",
   "metadata": {},
   "outputs": [],
   "source": []
  },
  {
   "cell_type": "code",
   "execution_count": null,
   "id": "2ff3dbee-8511-4e83-9bdb-ff32588d520e",
   "metadata": {},
   "outputs": [],
   "source": []
  },
  {
   "cell_type": "code",
   "execution_count": null,
   "id": "25cb330e-0e8b-41a2-84e6-452ec0b7faf8",
   "metadata": {},
   "outputs": [],
   "source": []
  },
  {
   "cell_type": "code",
   "execution_count": null,
   "id": "674362e0-dfe7-4e19-933d-198a89ff886f",
   "metadata": {},
   "outputs": [],
   "source": []
  },
  {
   "cell_type": "code",
   "execution_count": null,
   "id": "65ac344f-dac7-4187-a3ae-0ab7dd9142e1",
   "metadata": {},
   "outputs": [],
   "source": []
  },
  {
   "cell_type": "code",
   "execution_count": null,
   "id": "92bfd0e8-3f9a-49d7-b1fc-6e613730a7b1",
   "metadata": {},
   "outputs": [],
   "source": []
  },
  {
   "cell_type": "code",
   "execution_count": null,
   "id": "47a6c341-da62-4d3e-b5bf-9976b579cdf6",
   "metadata": {},
   "outputs": [],
   "source": []
  },
  {
   "cell_type": "code",
   "execution_count": null,
   "id": "5490df7d-5dec-4a3f-9443-3211a13ea491",
   "metadata": {},
   "outputs": [],
   "source": []
  },
  {
   "cell_type": "code",
   "execution_count": null,
   "id": "f7a589c9-e2a3-4d37-ba20-0829299cc478",
   "metadata": {},
   "outputs": [],
   "source": []
  },
  {
   "cell_type": "code",
   "execution_count": null,
   "id": "d12aaa58-a032-4c37-bd88-53d0fa737978",
   "metadata": {},
   "outputs": [],
   "source": []
  },
  {
   "cell_type": "code",
   "execution_count": null,
   "id": "a3ff5d6c-26a2-4424-abe2-9ede80975a4f",
   "metadata": {},
   "outputs": [],
   "source": []
  },
  {
   "cell_type": "code",
   "execution_count": null,
   "id": "48247a3f-4694-43af-8584-48dee00914d3",
   "metadata": {},
   "outputs": [],
   "source": []
  },
  {
   "cell_type": "code",
   "execution_count": null,
   "id": "bb94f8d9-b82f-4779-af7f-ee32577d7580",
   "metadata": {},
   "outputs": [],
   "source": []
  },
  {
   "cell_type": "code",
   "execution_count": null,
   "id": "8c07f7b2-839c-4a9a-bf98-9935da407301",
   "metadata": {},
   "outputs": [],
   "source": []
  },
  {
   "cell_type": "code",
   "execution_count": null,
   "id": "f3d988d4-5292-4050-abbc-8b2d14112fc1",
   "metadata": {},
   "outputs": [],
   "source": []
  },
  {
   "cell_type": "code",
   "execution_count": null,
   "id": "228c1045-9d64-4d8a-8d3a-67143464ec61",
   "metadata": {},
   "outputs": [],
   "source": []
  },
  {
   "cell_type": "code",
   "execution_count": null,
   "id": "ac554047-a772-4966-963f-9ec1a5fa98b5",
   "metadata": {},
   "outputs": [],
   "source": []
  },
  {
   "cell_type": "code",
   "execution_count": null,
   "id": "17abefda-5b13-45e4-bff2-00853618d4ee",
   "metadata": {},
   "outputs": [],
   "source": []
  },
  {
   "cell_type": "code",
   "execution_count": null,
   "id": "41e4d11d-d140-4bec-9e07-db08c85a7a42",
   "metadata": {},
   "outputs": [],
   "source": []
  },
  {
   "cell_type": "code",
   "execution_count": null,
   "id": "29548295-3347-45c1-8dcb-a947225b0151",
   "metadata": {},
   "outputs": [],
   "source": []
  },
  {
   "cell_type": "code",
   "execution_count": null,
   "id": "fa339f27-6f6b-4ba1-b83e-50d072a5615e",
   "metadata": {},
   "outputs": [],
   "source": []
  },
  {
   "cell_type": "code",
   "execution_count": null,
   "id": "ed35bcac-219d-4a3c-a6a0-f661d0a3a989",
   "metadata": {},
   "outputs": [],
   "source": []
  },
  {
   "cell_type": "code",
   "execution_count": null,
   "id": "6d17ab8f-7e5b-401e-92ac-290e52d3c3d4",
   "metadata": {},
   "outputs": [],
   "source": []
  },
  {
   "cell_type": "code",
   "execution_count": null,
   "id": "8f54489f-c451-4d12-9a07-a15a068190aa",
   "metadata": {},
   "outputs": [],
   "source": []
  },
  {
   "cell_type": "code",
   "execution_count": null,
   "id": "770d65a3-0b8f-4d24-bf10-e2dfd239448a",
   "metadata": {},
   "outputs": [],
   "source": []
  },
  {
   "cell_type": "code",
   "execution_count": null,
   "id": "e2753a6e-292f-4d9f-95c0-e31dff091f48",
   "metadata": {},
   "outputs": [],
   "source": []
  },
  {
   "cell_type": "code",
   "execution_count": null,
   "id": "aef2bb40-4f99-4e86-b9cf-8e7222d19394",
   "metadata": {},
   "outputs": [],
   "source": []
  }
 ],
 "metadata": {
  "kernelspec": {
   "display_name": "Python 3 (ipykernel)",
   "language": "python",
   "name": "python3"
  },
  "language_info": {
   "codemirror_mode": {
    "name": "ipython",
    "version": 3
   },
   "file_extension": ".py",
   "mimetype": "text/x-python",
   "name": "python",
   "nbconvert_exporter": "python",
   "pygments_lexer": "ipython3",
   "version": "3.10.4"
  }
 },
 "nbformat": 4,
 "nbformat_minor": 5
}
